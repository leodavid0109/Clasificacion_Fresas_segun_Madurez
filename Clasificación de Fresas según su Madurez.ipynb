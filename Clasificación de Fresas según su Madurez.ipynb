version https://git-lfs.github.com/spec/v1
oid sha256:223a118c4dea98f4c451617932a28048b0d778eeaac1c30d3ea661060112399d
size 262175047
