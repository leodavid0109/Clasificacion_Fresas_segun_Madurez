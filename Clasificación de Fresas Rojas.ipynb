version https://git-lfs.github.com/spec/v1
oid sha256:656bf7d35cb56d7ed9df49c47ed22b64ee70fc9dfb5e67bcd81cee73e0257088
size 110439860
