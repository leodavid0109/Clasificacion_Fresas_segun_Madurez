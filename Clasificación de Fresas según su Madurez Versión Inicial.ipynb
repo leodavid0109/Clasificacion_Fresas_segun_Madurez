version https://git-lfs.github.com/spec/v1
oid sha256:34fcc9f47b5b5f4f0f8e1a38bb6ab02c931334fcff7f69709bbbfcbd5156a1a7
size 622874
